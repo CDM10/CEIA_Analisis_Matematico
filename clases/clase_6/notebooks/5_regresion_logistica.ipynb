{
  "nbformat": 4,
  "nbformat_minor": 0,
  "metadata": {
    "colab": {
      "name": "AMIA-Regresión logística.ipynb",
      "provenance": []
    },
    "kernelspec": {
      "name": "python3",
      "display_name": "Python 3"
    },
    "language_info": {
      "name": "python"
    }
  },
  "cells": [
    {
      "cell_type": "markdown",
      "metadata": {
        "id": "ljOQZ8CppLdC"
      },
      "source": [
        "# Regresión Logística\n",
        "\n",
        "Uno de los modelos de clasificación más simples que existe, el modelo de regresión logística consiste en una red neuronal de una celda cuya función de activación es la logística:\n",
        "\n",
        "$$\n",
        "\\sigma(z) = \\frac{1}{1+e^{-z}}\n",
        "$$\n",
        "\n",
        "Reemplazando con $z = w^T \\cdot x + b$ una transformación afín del vector de entrada $x$ vía el vector de pesos $w$ y el sesgo $b$, se obtiene que el modelo $h(x)$ es\n",
        "\n",
        "$$\n",
        "h(x) = \\sigma(w^T  \\cdot x+b) = \\frac{1}{1+e^{-(w^T  \\cdot x+b)}}\n",
        "$$\n",
        "\n",
        "cuya salida es un valor entre 0 y 1, interpretable a su vez en un esquema de clasificación binaria (las clases posibles son $0$ y $1$) como *la probabilidad de que ese $x$ pertenezca a la clase 1*.\n",
        "\n",
        "\n",
        "## Forward propagation (predicción)\n",
        "\n",
        "Dada una función de pérdida $\\mathcal{L}(y,\\hat{y})$, se puede definir la función de costo $J(W,b)=\\frac{1}{n}\\sum_{i=1}^n\\mathcal{L}(y_i,h_{W,b}(x_i))$ que es la pérdida promedio. En el caso de utilizar SGD podemos estimar esto en base al error sobre un sample.\n",
        "\n",
        "\n",
        "![](https://drive.google.com/uc?id=1_whFVq37nx53d_f-jRCI68vIUv63T5_f)\n",
        "\n",
        "\n",
        "## Backwards propagation (actualización)\n",
        "![](https://drive.google.com/uc?id=11uQs3-MC3mtq0la7i8EFuofSkrjxiKKw)\n",
        "\n",
        "donde:\n",
        "* $\\frac{dL}{d\\sigma}$ depende de la función de pérdida utilizada\n",
        "* $\\frac{d\\sigma}{dz} = \\sigma'(z) = \\sigma(z)(1-\\sigma(z))$ es la derivada de la función logística\n",
        "* $\\nabla z (w) = x$ que se puede obtener fácilmente observando que $z=b+\\sum_{i=1}^n w_i \\cdot x_i$ y luego para todo $i$ resulta $\\frac{dz}{dw_i}=x_i$ y de la misma forma  $\\frac{dz}{dx_i}=w_i$, luego $\\nabla z (w) = x$ y $\\nabla z (x) = w$, aunque este último no resulta de interés para una red neuronal no-multicapa.\n",
        "* $\\frac{dz}{db}=1$\n",
        "\n",
        "\n",
        "\n",
        "## Función de pérdida: Cross-entropy\n",
        "\n",
        "Vamos a utilizar, para el esquema de clasificación binaria (las clases son $0$ o $1$) la función de pérdida conocida como *log-loss* o [*cross-entropy loss*](https://en.wikipedia.org/wiki/Cross_entropy#Cross-entropy_loss_function_and_logistic_regression), que se define como:\n",
        "\n",
        "$$\n",
        "\\mathcal{L}(y,\\hat{y}) = -y \\cdot log(\\hat{y}) - (1-y) \\cdot log(1-\\hat{y})\n",
        "$$\n",
        "\n",
        "Al margen de las muchas propiedades que exhibe la utilización de esa función de pérdida (cuya minimización, por ejemplo, es equivalente a maximizar la verosimilitud de los datos), su derivada resulta muy práctica por cómo se acopla con la derivada respecto de $z$:\n",
        "\n",
        "$$\n",
        "\\frac{d\\mathcal{L}(y,\\hat{y})}{d\\hat{y}} = \\frac{\\hat{y}-y}{\\hat{y}(1-\\hat{y})}\n",
        "$$\n",
        "\n",
        "de donde\n",
        "$$\n",
        "\\frac{d\\mathcal{L}(y,\\sigma(z))}{dz} = \\frac{d\\mathcal{L}(y,\\sigma)}{d\\sigma} \\cdot \\frac{\\sigma(z)}{dz} = \\frac{\\sigma(z)-y}{\\sigma(z)(1-\\sigma(z))} \\cdot \\sigma(z)(1-\\sigma(z)) = \\sigma(z) - y\n",
        "$$\n",
        "\n",
        "y por tanto el $\\frac{dJ}{dz}$ coincide con el del modelo de regresión lineal cuando se utiliza el error cuadrático medio como función de pérdida, además de ahorrar muchas cuentas.\n"
      ]
    },
    {
      "cell_type": "code",
      "metadata": {
        "id": "uVajVFplotQz"
      },
      "source": [
        "import numpy as np\n",
        "import matplotlib.pyplot as plt\n",
        "from sklearn.model_selection import train_test_split"
      ],
      "execution_count": null,
      "outputs": []
    },
    {
      "cell_type": "code",
      "metadata": {
        "id": "IKjB_YcyyLIE"
      },
      "source": [
        "# random seeds\n",
        "rng_seed = 1234"
      ],
      "execution_count": null,
      "outputs": []
    },
    {
      "cell_type": "code",
      "metadata": {
        "colab": {
          "base_uri": "https://localhost:8080/"
        },
        "id": "Dmu3uk7uxKMF",
        "outputId": "4ef9b34f-40cd-4179-e6f7-afa439cf6c8b"
      },
      "source": [
        "# datos\n",
        "from sklearn.datasets import load_breast_cancer\n",
        "X, Y = load_breast_cancer(return_X_y=True)\n",
        "\n",
        "# separamos en set de train y test\n",
        "X_train, X_test, Y_train, Y_test = train_test_split(X, Y, test_size=0.3, random_state=rng_seed)\n",
        "\n",
        "n_rows = X_train.shape[0]\n",
        "dims = X_train.shape[1]\n",
        "\n",
        "n_rows, dims"
      ],
      "execution_count": null,
      "outputs": [
        {
          "output_type": "execute_result",
          "data": {
            "text/plain": [
              "(398, 30)"
            ]
          },
          "metadata": {},
          "execution_count": 3
        }
      ]
    },
    {
      "cell_type": "code",
      "metadata": {
        "colab": {
          "base_uri": "https://localhost:8080/"
        },
        "id": "Kh5ecgC2vxWz",
        "outputId": "fcf69250-4f46-41d6-c3cb-1f7de895f140"
      },
      "source": [
        "# inicialización\n",
        "rng = np.random.default_rng(rng_seed)\n",
        "\n",
        "w = rng.standard_normal(size=(dims)) * 0.01\n",
        "b = rng.uniform(size=1)\n",
        "\n",
        "w,b"
      ],
      "execution_count": null,
      "outputs": [
        {
          "output_type": "execute_result",
          "data": {
            "text/plain": [
              "(array([-0.01603837,  0.000641  ,  0.00740891,  0.00152619,  0.00863744,\n",
              "         0.02913099, -0.01478823,  0.00945473, -0.01666135,  0.00343745,\n",
              "        -0.00512444,  0.01323759, -0.0086028 ,  0.00519493, -0.01265144,\n",
              "        -0.02159139,  0.00434734,  0.01733289,  0.00520134, -0.01002166,\n",
              "         0.00268346,  0.00767175,  0.01191272, -0.01157411,  0.00696279,\n",
              "         0.00351384, -0.00032415,  0.00013182, -0.0067925 , -0.00620532]),\n",
              " array([0.73581899]))"
            ]
          },
          "metadata": {},
          "execution_count": 4
        }
      ]
    },
    {
      "cell_type": "code",
      "metadata": {
        "id": "sPYXQR4EokI_",
        "colab": {
          "base_uri": "https://localhost:8080/"
        },
        "outputId": "f60e8446-95e2-473b-9ccd-273a665fe6ac"
      },
      "source": [
        "w,b"
      ],
      "execution_count": null,
      "outputs": [
        {
          "output_type": "execute_result",
          "data": {
            "text/plain": [
              "(array([-0.01603837,  0.000641  ,  0.00740891,  0.00152619,  0.00863744,\n",
              "         0.02913099, -0.01478823,  0.00945473, -0.01666135,  0.00343745,\n",
              "        -0.00512444,  0.01323759, -0.0086028 ,  0.00519493, -0.01265144,\n",
              "        -0.02159139,  0.00434734,  0.01733289,  0.00520134, -0.01002166,\n",
              "         0.00268346,  0.00767175,  0.01191272, -0.01157411,  0.00696279,\n",
              "         0.00351384, -0.00032415,  0.00013182, -0.0067925 , -0.00620532]),\n",
              " array([0.73581899]))"
            ]
          },
          "metadata": {},
          "execution_count": 5
        }
      ]
    },
    {
      "cell_type": "code",
      "metadata": {
        "colab": {
          "base_uri": "https://localhost:8080/"
        },
        "id": "by0bRhXV0w_U",
        "outputId": "19a22912-b308-421a-d140-a6360c5734e2"
      },
      "source": [
        "# pre-train validation error\n",
        "\n",
        "# aprovechamos propiedades y vectorización para hacer las cosas más rápido\n",
        "# X es (n_rows, dims)\n",
        "# w es (dims,1)\n",
        "# b es (,) (escalar)\n",
        "def val_error(X_val,Y_val,w,b):\n",
        "  Z = X_val @ w.reshape((w.size,1)) + b\n",
        "  Y_hat = 1./(1+np.exp(-Z))\n",
        "\n",
        "  Y_val = Y_val.reshape((Y_val.size,1))\n",
        "\n",
        "  log_loss_v = Y_val * np.log(Y_hat) + (1-Y_val)* np.log(1-Y_hat)\n",
        "\n",
        "  #print(f\"log_loss fun has shape {log_loss_v.shape} and Y_val has shape {Y_val.shape} and Y_hat has shape {Y_hat.shape}\")\n",
        "\n",
        "  return -np.average(log_loss_v)\n",
        "\n",
        "print(f\"Pre-train average loss: {val_error(X_test,Y_test,w,b)}\")"
      ],
      "execution_count": null,
      "outputs": [
        {
          "output_type": "stream",
          "name": "stdout",
          "text": [
            "Pre-train average loss: 1.9783711582850736\n"
          ]
        }
      ]
    },
    {
      "cell_type": "code",
      "metadata": {
        "colab": {
          "base_uri": "https://localhost:8080/"
        },
        "id": "OcUbeHC5wZ6c",
        "outputId": "152f986b-a69d-4347-f5ac-614e108cb200"
      },
      "source": [
        "# run\n",
        "n_runs = 10        # cuántas veces correr el ciclo\n",
        "lr = 0.001         # learning rate del VGD, tuneable\n",
        "\n",
        "\n",
        "for i in range(n_runs):\n",
        "\n",
        "  # sample para SGD\n",
        "  idx = rng.choice(n_rows)\n",
        "  x = X_train[idx]\n",
        "  y = Y_train[idx]\n",
        "\n",
        "  # forward\n",
        "  z = w @ x + b\n",
        "  y_hat = 1./(1+np.exp(-z))\n",
        "\n",
        "  # evaluation\n",
        "  print(f\"{i+1}-th run average validation loss: {val_error(X_test,Y_test,w,b)}\")\n",
        "  \n",
        "  # backwards\n",
        "  ## derivatives\n",
        "  # notacion (convencional?) decir dz significa dL/dz\n",
        "  dz = y_hat - y\n",
        "  dw = x * dz\n",
        "  db = dz\n",
        "\n",
        "  ## vanilla gradient descent (VGD)\n",
        "  w -= lr * dw\n",
        "  b -= lr * db"
      ],
      "execution_count": null,
      "outputs": [
        {
          "output_type": "stream",
          "name": "stdout",
          "text": [
            "1-th run average validation loss: 1.9783711582850736\n",
            "2-th run average validation loss: nan\n",
            "3-th run average validation loss: nan\n",
            "4-th run average validation loss: nan\n",
            "5-th run average validation loss: nan\n",
            "6-th run average validation loss: nan\n",
            "7-th run average validation loss: nan\n",
            "8-th run average validation loss: nan\n",
            "9-th run average validation loss: nan\n",
            "10-th run average validation loss: nan\n"
          ]
        },
        {
          "output_type": "stream",
          "name": "stderr",
          "text": [
            "/usr/local/lib/python3.7/dist-packages/ipykernel_launcher.py:13: RuntimeWarning: divide by zero encountered in log\n",
            "  del sys.path[0]\n",
            "/usr/local/lib/python3.7/dist-packages/ipykernel_launcher.py:13: RuntimeWarning: invalid value encountered in multiply\n",
            "  del sys.path[0]\n",
            "/usr/local/lib/python3.7/dist-packages/ipykernel_launcher.py:9: RuntimeWarning: overflow encountered in exp\n",
            "  if __name__ == '__main__':\n",
            "/usr/local/lib/python3.7/dist-packages/ipykernel_launcher.py:15: RuntimeWarning: overflow encountered in exp\n",
            "  from ipykernel import kernelapp as app\n"
          ]
        }
      ]
    },
    {
      "cell_type": "markdown",
      "metadata": {
        "id": "-0gdD6gDBr6B"
      },
      "source": [
        "¿Qué pasó? Está dando error desde la primer actualización de los parámetros! A ver las salidas..."
      ]
    },
    {
      "cell_type": "code",
      "metadata": {
        "colab": {
          "base_uri": "https://localhost:8080/"
        },
        "id": "EPCCnYwSB9tE",
        "outputId": "19426887-2694-4769-d4e1-7170f71d8de3"
      },
      "source": [
        "# chequeo de los parámetros, nada raro por aquí\n",
        "w,b"
      ],
      "execution_count": null,
      "outputs": [
        {
          "output_type": "execute_result",
          "data": {
            "text/plain": [
              "(array([-9.44993022e-04,  2.41410356e-02,  9.35744806e-02,  2.57760978e-01,\n",
              "         8.75463393e-03,  2.89903293e-02, -1.50761182e-02,  9.36166269e-03,\n",
              "        -1.63706911e-02,  3.54150759e-03, -4.98708292e-03,  1.45055822e-02,\n",
              "        -8.89534482e-03, -6.83756090e-04, -1.26492452e-02, -2.16430881e-02,\n",
              "         4.29173374e-03,  1.73286726e-02,  5.23236312e-03, -1.00222740e-02,\n",
              "         1.75756242e-02,  2.90353542e-02,  8.79926045e-02,  1.53289795e-01,\n",
              "         7.07174880e-03,  2.83988644e-03, -1.16651719e-03, -8.94947389e-05,\n",
              "        -6.43296459e-03, -6.13924909e-03]), array([0.73774624]))"
            ]
          },
          "metadata": {},
          "execution_count": 8
        }
      ]
    },
    {
      "cell_type": "code",
      "metadata": {
        "colab": {
          "base_uri": "https://localhost:8080/"
        },
        "id": "rmRbzqUPhvh5",
        "outputId": "5ef9ec67-120c-451e-b2da-de72508bdf0e"
      },
      "source": [
        "# sólo la transformación afin\n",
        "Z__ = (X_test @ w.reshape((w.size,1)) + b).round(3).flatten()\n",
        "Z__"
      ],
      "execution_count": null,
      "outputs": [
        {
          "output_type": "execute_result",
          "data": {
            "text/plain": [
              "array([ 208.644,  170.056,  230.158,  133.995,  273.659,  240.978,\n",
              "        349.749,  111.704,  532.468,  479.48 ,  632.073,  321.46 ,\n",
              "        223.355,  359.293,  204.667,  600.629,  218.596,  129.119,\n",
              "        202.387,  424.388,  271.392,  458.834,  610.411,  915.51 ,\n",
              "        671.876,  302.418,  309.561,  195.138,  181.655,  233.628,\n",
              "        249.169,  220.224,  576.539,  240.895,  175.091,  302.821,\n",
              "        163.316,  386.095,  369.044,  152.706,  461.111,  184.243,\n",
              "        605.808,  234.399,  241.647,  121.214,  172.184,  295.236,\n",
              "        712.781,  278.741,  291.741,  318.738,  207.675,  639.759,\n",
              "        410.736,  231.657,  123.624,  168.36 ,  221.983,  437.532,\n",
              "        311.292,  146.106,  276.41 ,  156.326,  249.095,  445.552,\n",
              "        596.848,  190.024,  188.364,  285.365,  131.896,  424.721,\n",
              "        111.982,  219.648,  271.235,  147.685,  160.139,  622.725,\n",
              "        185.741,  341.925,  211.615,  237.584,  374.957,  336.188,\n",
              "        450.844,  425.317,  472.881,  610.059,  328.173,  307.8  ,\n",
              "        158.414,  212.523,  151.85 ,  689.746,  358.515,  138.968,\n",
              "        257.742,  220.421,  119.167,  187.635,  603.476,  535.31 ,\n",
              "        174.461,  136.823,  442.488,  180.13 ,  224.332,  392.981,\n",
              "        303.165,  208.696,  523.074,  288.637,  318.677, 1338.706,\n",
              "        249.27 ,  180.287,  222.379,  284.902,  158.427,  377.476,\n",
              "        177.839,  279.756,  184.139,  179.399,  657.821,  278.385,\n",
              "        306.926,  478.048,  167.191,   89.937,  332.994,  241.215,\n",
              "        926.603,  191.891,  350.541,  275.608,  262.258,  298.453,\n",
              "        163.273,  257.555,  133.971,  771.874,  308.708,  357.151,\n",
              "        273.538,  234.628,  358.028,  268.91 ,  354.413,  301.987,\n",
              "        198.096,  192.507,  578.758,  149.743,  188.784,  424.593,\n",
              "        316.077,  593.865,  725.985,  305.406,  209.3  ,  257.634,\n",
              "        541.278,  183.77 ,  211.744,  363.542,  197.135,  283.044,\n",
              "        229.578,  226.674,  384.914])"
            ]
          },
          "metadata": {},
          "execution_count": 9
        }
      ]
    },
    {
      "cell_type": "code",
      "metadata": {
        "colab": {
          "base_uri": "https://localhost:8080/"
        },
        "id": "6UhnNrFOgb8-",
        "outputId": "568df70d-2ef6-40e5-c9ad-33e0bf9b8f41"
      },
      "source": [
        "(1./(1+np.exp(-Z__))).round(4).flatten()"
      ],
      "execution_count": null,
      "outputs": [
        {
          "output_type": "execute_result",
          "data": {
            "text/plain": [
              "array([1., 1., 1., 1., 1., 1., 1., 1., 1., 1., 1., 1., 1., 1., 1., 1., 1.,\n",
              "       1., 1., 1., 1., 1., 1., 1., 1., 1., 1., 1., 1., 1., 1., 1., 1., 1.,\n",
              "       1., 1., 1., 1., 1., 1., 1., 1., 1., 1., 1., 1., 1., 1., 1., 1., 1.,\n",
              "       1., 1., 1., 1., 1., 1., 1., 1., 1., 1., 1., 1., 1., 1., 1., 1., 1.,\n",
              "       1., 1., 1., 1., 1., 1., 1., 1., 1., 1., 1., 1., 1., 1., 1., 1., 1.,\n",
              "       1., 1., 1., 1., 1., 1., 1., 1., 1., 1., 1., 1., 1., 1., 1., 1., 1.,\n",
              "       1., 1., 1., 1., 1., 1., 1., 1., 1., 1., 1., 1., 1., 1., 1., 1., 1.,\n",
              "       1., 1., 1., 1., 1., 1., 1., 1., 1., 1., 1., 1., 1., 1., 1., 1., 1.,\n",
              "       1., 1., 1., 1., 1., 1., 1., 1., 1., 1., 1., 1., 1., 1., 1., 1., 1.,\n",
              "       1., 1., 1., 1., 1., 1., 1., 1., 1., 1., 1., 1., 1., 1., 1., 1., 1.,\n",
              "       1.])"
            ]
          },
          "metadata": {},
          "execution_count": 10
        }
      ]
    },
    {
      "cell_type": "markdown",
      "metadata": {
        "id": "pUs8MiKREJum"
      },
      "source": [
        "Como se puede apreciar, al haber 1s (o 0s) absolutos el log(0) genera un $\\infty$, que a su vez provoca un overflow. \n",
        "\n",
        "¿Es un problema de alguna columna que tiene rangos muy grandes? Si así lo fuera, estandarizar las columnas debería resolver el problema."
      ]
    },
    {
      "cell_type": "code",
      "metadata": {
        "id": "BktuevpYFKh8"
      },
      "source": [
        "def standardize_cols(mat, mean=None, std=None):\n",
        "  if mean is None:\n",
        "    mean = mat.mean(axis=0)\n",
        "  mat -= mean\n",
        "\n",
        "  if std is None:\n",
        "    std = mat.std(axis=0)\n",
        "  mat /= std\n",
        "\n",
        "  return mat, mean, std\n",
        "\n",
        "\n",
        "# estandarizamos el X_train\n",
        "X_train_std, means, stds = standardize_cols(X_train.copy())\n",
        "\n",
        "# aplicamos la misma transf al set de test \n",
        "X_test_std, _, _ = standardize_cols(X_test.copy(), mean=means, std=stds)"
      ],
      "execution_count": null,
      "outputs": []
    },
    {
      "cell_type": "code",
      "metadata": {
        "colab": {
          "base_uri": "https://localhost:8080/"
        },
        "id": "VKlJfP8LEswb",
        "outputId": "aee248b3-5cb6-46c0-b0a5-c5c898971aad"
      },
      "source": [
        "# reiniciamos todo y volvemos a correr\n",
        "w = rng.standard_normal(size=(dims)) * 0.01\n",
        "b = rng.uniform(size=1)\n",
        "\n",
        "for i in range(n_runs):\n",
        "\n",
        "  # sample para SGD\n",
        "  idx = rng.choice(n_rows)\n",
        "  x = X_train_std[idx]\n",
        "  y = Y_train[idx]\n",
        "\n",
        "  # forward\n",
        "  z = w @ x + b\n",
        "  y_hat = 1./(1+np.exp(-z))\n",
        "\n",
        "  # evaluation\n",
        "  #if (i+1)%100 == 0:\n",
        "    #print(f\"True value was {y}, predicted {y_hat}\") \n",
        "  print(f\"{i+1}-th run average validation loss: {val_error(X_test_std,Y_test,w,b)}\")\n",
        "  \n",
        "  # backwards\n",
        "  ## derivatives\n",
        "  dz = y_hat - y\n",
        "  dw = x * dz\n",
        "  db = dz\n",
        "\n",
        "  ## vanilla gradient descent (VGD)\n",
        "  w -= lr * dw\n",
        "  b -= lr * db"
      ],
      "execution_count": null,
      "outputs": [
        {
          "output_type": "stream",
          "name": "stdout",
          "text": [
            "1-th run average validation loss: 0.6627188154688625\n",
            "2-th run average validation loss: 0.6614727591724989\n",
            "3-th run average validation loss: 0.6598975174465603\n",
            "4-th run average validation loss: 0.6558568955183526\n",
            "5-th run average validation loss: 0.6550884974272456\n",
            "6-th run average validation loss: 0.6537527985033906\n",
            "7-th run average validation loss: 0.6513263776313882\n",
            "8-th run average validation loss: 0.6466013160761442\n",
            "9-th run average validation loss: 0.6459354632837864\n",
            "10-th run average validation loss: 0.6447594228555885\n"
          ]
        }
      ]
    },
    {
      "cell_type": "markdown",
      "metadata": {
        "id": "1VcyWG_eHdmw"
      },
      "source": [
        "Bien! Parece que hemos resuelto el problema. Probemos con un learning rate un poco mayor, de 0.01 (10x) y 500 runs en vez de 10"
      ]
    },
    {
      "cell_type": "code",
      "metadata": {
        "colab": {
          "base_uri": "https://localhost:8080/"
        },
        "id": "O1jptxRrHosj",
        "outputId": "33acc694-1019-4963-9827-684620bf98e0"
      },
      "source": [
        "# reiniciamos todo para mostrar la evolución desde 0\n",
        "w = rng.standard_normal(size=(dims)) * 0.01\n",
        "b = rng.uniform(size=1)\n",
        "\n",
        "\n",
        "lr = 0.01\n",
        "n_runs = 1#500\n",
        "\n",
        "historic_loss = np.empty(n_runs)\n",
        "\n",
        "for i in range(n_runs):\n",
        "\n",
        "  # sample para SGD\n",
        "  idx = rng.choice(n_rows)\n",
        "  x = X_train_std[idx]\n",
        "  y = Y_train[idx]\n",
        "\n",
        "  # forward\n",
        "  z = w @ x + b\n",
        "  y_hat = 1./(1+np.exp(-z))\n",
        "\n",
        "  # evaluation\n",
        "  historic_loss[i] = val_error(X_test_std,Y_test,w,b)\n",
        "  print(f\"{i+1}-th run average validation loss: {historic_loss[i]}\")\n",
        "  \n",
        "  # backwards\n",
        "  ## derivatives\n",
        "  dz = y_hat - y\n",
        "  dw = x * dz\n",
        "  db = dz\n",
        "  print(f\"x shape: {x.shape}\")\n",
        "  print(f\"w shape: {w.shape}\")\n",
        "  print(f\"b shape: {b.shape}\")\n",
        "  print(f\"dz shape: {dz.shape}\")\n",
        "  print(f\"dw shape: {dw.shape}\")\n",
        "  print(f\"db shape: {db.shape}\")\n",
        "\n",
        "  ## vanilla gradient descent (VGD)\n",
        "  w -= lr * dw\n",
        "  b -= lr * db"
      ],
      "execution_count": null,
      "outputs": [
        {
          "output_type": "stream",
          "name": "stdout",
          "text": [
            "1-th run average validation loss: 0.7045288341379463\n",
            "x shape: (30,)\n",
            "w shape: (30,)\n",
            "b shape: (1,)\n",
            "dz shape: (1,)\n",
            "dw shape: (30,)\n",
            "db shape: (1,)\n"
          ]
        }
      ]
    },
    {
      "cell_type": "code",
      "metadata": {
        "colab": {
          "base_uri": "https://localhost:8080/"
        },
        "id": "HL1Tfk4E4afw",
        "outputId": "1ec7d6b7-0d49-4874-e3ab-dcfa9c50a075"
      },
      "source": [
        "# post-train validation error\n",
        "print(f\"Post-train average loss: {val_error(X_test_std,Y_test,w,b)}\")"
      ],
      "execution_count": null,
      "outputs": [
        {
          "output_type": "stream",
          "name": "stdout",
          "text": [
            "Post-train average loss: 0.19513941834192855\n"
          ]
        }
      ]
    },
    {
      "cell_type": "code",
      "metadata": {
        "colab": {
          "base_uri": "https://localhost:8080/",
          "height": 639
        },
        "id": "m-5H_fJvKL3p",
        "outputId": "49bd3f19-99dc-4e0a-cc28-548dd5e1d900"
      },
      "source": [
        "fig, ax = plt.subplots(figsize=(10,10))\n",
        "\n",
        "ax.plot(historic_loss, color='red')\n",
        "ax.set_title(f\"Validation Log-loss para Logistic Regressor entrenado con SGD a α={lr}\")\n",
        "ax.set_xlabel(\"Número de run\")\n",
        "ax.set_ylabel(\"LogLoss sobre set de validación\")\n",
        "\n",
        "ax.plot()"
      ],
      "execution_count": null,
      "outputs": [
        {
          "output_type": "execute_result",
          "data": {
            "text/plain": [
              "[]"
            ]
          },
          "metadata": {},
          "execution_count": 15
        },
        {
          "output_type": "display_data",
          "data": {
            "image/png": "[encoded data removed]",
            "text/plain": [
              "<Figure size 720x720 with 1 Axes>"
            ]
          },
          "metadata": {
            "needs_background": "light"
          }
        }
      ]
    },
    {
      "cell_type": "markdown",
      "metadata": {
        "id": "h4UXcy9QI2tI"
      },
      "source": [
        "¿Puede seguir mejorando? A explorar:\n",
        "\n",
        "* Distintos valores de *learning rate* $\\alpha$\n",
        "  * ¿Quién dice que debe ser constante? \n",
        "* Entrenar más el modelo (aumentar *n_runs*)\n",
        "* Sobre el final parecía no mejorar y \"rebotar un poco\" alrededor de $0.194$, esta variabilidad puede deberse al $\\alpha$ o también a la varianza introducida por usar SGD (estimación de gradiente sobre 1 observación).\n",
        "  * ¿Qué pasa si lo adaptamos para *mini-batch* o incluso *batch*?\n",
        "* ¿Encapsular en un objeto para no repetir código?"
      ]
    },
    {
      "cell_type": "markdown",
      "metadata": {
        "id": "xS9iuIxNL5gC"
      },
      "source": [
        "Charlando sobre la varianza del SGD, vamos a correr varios para observar este fenómeno.\n"
      ]
    },
    {
      "cell_type": "code",
      "metadata": {
        "id": "j-YgjPVML4zQ"
      },
      "source": [
        "w = rng.standard_normal(size=(dims)) * 0.01\n",
        "b = rng.uniform(size=1)\n",
        "\n",
        "def get_historic_loss(w_base,b_base,rng, n_runs, lr):\n",
        "  w = w_base.copy()\n",
        "  b = b_base.copy()\n",
        "\n",
        "  historic_loss = np.empty(n_runs)\n",
        "\n",
        "  for i in range(n_runs):\n",
        "\n",
        "    # sample para SGD\n",
        "    idx = rng.choice(n_rows)\n",
        "    x = X_train_std[idx]\n",
        "    y = Y_train[idx]\n",
        "\n",
        "    # forward\n",
        "    z = w @ x + b\n",
        "    y_hat = 1./(1+np.exp(-z))\n",
        "\n",
        "    # evaluation\n",
        "    historic_loss[i] = val_error(X_test_std,Y_test,w,b)\n",
        "\n",
        "    # backwards\n",
        "    ## derivatives\n",
        "    dz = y_hat - y\n",
        "    dw = x * dz\n",
        "    db = dz\n",
        "\n",
        "    ## vanilla gradient descent (VGD)\n",
        "    w -= lr * dw\n",
        "    b -= lr * db\n",
        "\n",
        "  return historic_loss\n",
        "\n",
        "# obtenemos 5 historics con los mismos parámetros iniciales\n",
        "losses = [get_historic_loss(w,b,rng,n_runs,lr) for i in range(5)]"
      ],
      "execution_count": null,
      "outputs": []
    },
    {
      "cell_type": "code",
      "metadata": {
        "colab": {
          "base_uri": "https://localhost:8080/",
          "height": 893
        },
        "id": "XGECqZpjNCV2",
        "outputId": "0a3643bd-cc37-4f55-dab1-93b290fedbf0"
      },
      "source": [
        "fig, ax = plt.subplots(figsize=(15,15))\n",
        "\n",
        "# colores sacados de aca https://matplotlib.org/stable/gallery/color/named_colors.html\n",
        "colors = ['blue', 'green', 'chocolate', 'purple', 'orangered']\n",
        "\n",
        "assert len(colors) == len(losses)\n",
        "for loss,color in zip(losses,colors):\n",
        "  ax.plot(loss, color=color)\n",
        "ax.set_title(\"Validation Log-loss para Logistic Regressor entrenados con SGD, diferentes runs (mismos parámetros iniciales)\")\n",
        "ax.set_xlabel(\"Número de run\")\n",
        "ax.set_ylabel(\"LogLoss sobre set de validación\")\n",
        "\n",
        "plt.show()"
      ],
      "execution_count": null,
      "outputs": [
        {
          "output_type": "display_data",
          "data": {
            "image/png": "[encoded data removed]",
            "text/plain": [
              "<Figure size 1080x1080 with 1 Axes>"
            ]
          },
          "metadata": {
            "needs_background": "light"
          }
        }
      ]
    }
  ]
}